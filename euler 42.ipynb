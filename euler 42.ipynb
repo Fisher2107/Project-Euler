{
 "cells": [
  {
   "cell_type": "code",
   "execution_count": 1,
   "id": "0088cbcb-bae2-44fb-a501-4da1ef45f7cf",
   "metadata": {},
   "outputs": [],
   "source": [
    "import pandas as pd\n",
    "import numpy as np\n",
    "import math\n",
    "\n",
    "def triangle(x):\n",
    "    \n",
    "    def quad(x):\n",
    "        return ((-1+math.sqrt(1+8*x))/2)\n",
    "    \n",
    "    n=quad(x)\n",
    "    if n/int(n)==1:\n",
    "        return True\n",
    "    else:\n",
    "        return False\n",
    "    \n",
    "    \n",
    "alp=list('abcdefghijklmnopqrstuvwxyz')\n",
    "def triangleword(x):\n",
    "    lis=list(x)\n",
    "    sumword=0\n",
    "    for i in range(len(lis)):\n",
    "        sumword+=alp.index(lis[i])+1\n",
    "    return triangle(sumword)\n"
   ]
  },
  {
   "cell_type": "code",
   "execution_count": 2,
   "id": "1e18e3ba-e5e7-43ec-bbfb-c32f7e5c2f40",
   "metadata": {},
   "outputs": [],
   "source": [
    "words = pd.read_csv ('words.txt',header=None).values[0]\n",
    "lwords=[]\n",
    "\n",
    "#note the str(i) is very important. Code wont allow just i.lower()\n",
    "for i in words:\n",
    "    lwords.append(str(i).lower())\n"
   ]
  },
  {
   "cell_type": "code",
   "execution_count": 3,
   "id": "ae6d7312-4812-471d-991d-1c6a071f2d36",
   "metadata": {},
   "outputs": [
    {
     "data": {
      "text/plain": [
       "162"
      ]
     },
     "execution_count": 3,
     "metadata": {},
     "output_type": "execute_result"
    }
   ],
   "source": [
    "total=0\n",
    "for i in lwords:\n",
    "    if triangleword(i):\n",
    "        total+=1\n",
    "total"
   ]
  },
  {
   "cell_type": "code",
   "execution_count": null,
   "id": "79ceb6b1-85c3-4366-8bb0-cf3ff71f89d2",
   "metadata": {},
   "outputs": [],
   "source": []
  }
 ],
 "metadata": {
  "kernelspec": {
   "display_name": "Python 3 (ipykernel)",
   "language": "python",
   "name": "python3"
  },
  "language_info": {
   "codemirror_mode": {
    "name": "ipython",
    "version": 3
   },
   "file_extension": ".py",
   "mimetype": "text/x-python",
   "name": "python",
   "nbconvert_exporter": "python",
   "pygments_lexer": "ipython3",
   "version": "3.9.7"
  }
 },
 "nbformat": 4,
 "nbformat_minor": 5
}
